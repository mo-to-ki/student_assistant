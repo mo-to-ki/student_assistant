{
 "cells": [
  {
   "cell_type": "markdown",
   "id": "837863e7",
   "metadata": {},
   "source": [
    "# 分類とアルゴリズム\n",
    "「機械学習の機能」において、\n",
    "分類アルゴリズム**サポートベクターマシン**（SVM）を使った分類の例をみました。\n",
    "\n",
    "SVMは理論に裏付けられた強力で代表的な分類アルゴリズムですが、\n",
    "SVM以外にも優秀な分類アルゴリズムが存在します。\n",
    "\n",
    "この資料では、\n",
    "同じ分布から得られるサンプルデータを訓練データとして用いて、\n",
    "複数の分類アルゴリズムを比較してみましょう。\n",
    "\n",
    "まず、次のプログラムで訓練データを作成します。\n",
    "\n",
    "```python\n",
    "import numpy as np\n",
    "import matplotlib.pyplot as plt\n",
    "\n",
    "n = 50\n",
    "\n",
    "pos = np.random.multivariate_normal((1,1), [[0.5,0],[0,0.5]], 2*n)\n",
    "plt.figure(figsize=(5,5))\n",
    "plt.scatter(pos[:,0], pos[:,1], c='g')\n",
    "neg = np.random.multivariate_normal((-1,-1), [[0.5,0],[0,0.5]], n)\n",
    "neg = np.vstack([neg, np.random.multivariate_normal((2,2), [[0.1,0],[0,0.1]], n)])\n",
    "plt.scatter(neg[:,0], neg[:,1], c='r')\n",
    "plt.show()\n",
    "\n",
    "data = np.vstack([pos,neg])\n",
    "label = [1]*(2*n) + [-1]*(2*n)\n",
    "```"
   ]
  },
  {
   "cell_type": "code",
   "execution_count": null,
   "id": "58761341",
   "metadata": {},
   "outputs": [],
   "source": []
  },
  {
   "cell_type": "markdown",
   "id": "84cba852",
   "metadata": {},
   "source": [
    "次に、サポートベクターマシン（SVM）を、\n",
    "rbfを類似度関数（カーネル）として利用して平面を、\n",
    "赤の領域と緑の領域に区分して見ます。\n",
    "\n",
    "| アルゴリズム | sklearnのクラス |\n",
    "| :--- | :--- |\n",
    "| SVM | sklearn.svm.SVC |\n",
    "\n",
    "次のプログラムを実行します。\n",
    "\n",
    "```python\n",
    "from sklearn.svm import SVC\n",
    "clf = SVC(kernel='rbf')\n",
    "clf.fit(data,label)\n",
    "x_min = min(data[:,0])\n",
    "x_max = max(data[:,0])\n",
    "y_min = min(data[:,1])\n",
    "y_max = max(data[:,1])\n",
    "xp = []\n",
    "yp = []\n",
    "xn = []\n",
    "yn = []\n",
    "for x in np.linspace(x_min, x_max, 101):\n",
    "  for y in np.linspace(y_min, y_max, 101):\n",
    "    p = clf.predict([(x, y)])\n",
    "    if p[0] == 1:\n",
    "      xp.append(x)\n",
    "      yp.append(y)\n",
    "    else:\n",
    "      xn.append(x)\n",
    "      yn.append(y)\n",
    "plt.figure(figsize=(5,5))\n",
    "plt.scatter(xp, yp, c='g', alpha=0.1)\n",
    "plt.scatter(xn, yn, c='r', alpha=0.1)\n",
    "plt.scatter(pos[:,0], pos[:,1], c='g')\n",
    "plt.scatter(neg[:,0], neg[:,1], c='r')\n",
    "plt.show()\n",
    "```"
   ]
  },
  {
   "cell_type": "code",
   "execution_count": null,
   "id": "22ba8608",
   "metadata": {},
   "outputs": [],
   "source": []
  },
  {
   "cell_type": "markdown",
   "id": "e90cbf89",
   "metadata": {},
   "source": [
    "以下の代表的な分類アルゴリズムで同じように平面を赤の領域と緑の領域に区分して下さい。\n",
    "> これらのアルゴリズムではカーネルを用いないので、ハイパーパラメータの設定`kernel=`は不要です。\n",
    "\n",
    "| アルゴリズム | sklearnのクラス |\n",
    "| :--- | :--- |\n",
    "| 多層パーセプトロン | sklearn.neural_network.MLPClassifier |\n",
    "| $k$最近傍法 | sklearn.neighbors.KNeighborsClassifier |\n",
    "| 決定木 | sklearn.tree.DecisionTreeClassifier |\n",
    "| ランダム木 | sklearn.ensemble.RandomForestClassifier |\n",
    "\n"
   ]
  },
  {
   "cell_type": "code",
   "execution_count": null,
   "id": "6bda48b0",
   "metadata": {},
   "outputs": [],
   "source": [
    "# 多層パーセプトロン\n"
   ]
  },
  {
   "cell_type": "code",
   "execution_count": null,
   "id": "957db98c",
   "metadata": {},
   "outputs": [],
   "source": [
    "# k最近傍法\n"
   ]
  },
  {
   "cell_type": "code",
   "execution_count": null,
   "id": "f54213b9",
   "metadata": {
    "scrolled": true
   },
   "outputs": [],
   "source": [
    "# 決定木\n"
   ]
  },
  {
   "cell_type": "code",
   "execution_count": null,
   "id": "922186fc",
   "metadata": {},
   "outputs": [],
   "source": [
    "# ランダム木\n"
   ]
  },
  {
   "cell_type": "markdown",
   "id": "0d184897",
   "metadata": {},
   "source": [
    "分類アルゴリズムが異なると、異なる予測が得られることが観察できます。\n",
    "\n",
    "**解決しようとしている問題に最適な分類アルゴリズムを選択する必要**があります。\n",
    "\n",
    "分類アルゴリズムの問題への適合性を定量的に評価する方法については、\n",
    "別の機会に学びます。"
   ]
  },
  {
   "cell_type": "code",
   "execution_count": null,
   "id": "541bb002",
   "metadata": {},
   "outputs": [],
   "source": []
  }
 ],
 "metadata": {
  "kernelspec": {
   "display_name": "Python 3 (ipykernel)",
   "language": "python",
   "name": "python3"
  },
  "language_info": {
   "codemirror_mode": {
    "name": "ipython",
    "version": 3
   },
   "file_extension": ".py",
   "mimetype": "text/x-python",
   "name": "python",
   "nbconvert_exporter": "python",
   "pygments_lexer": "ipython3",
   "version": "3.9.10"
  }
 },
 "nbformat": 4,
 "nbformat_minor": 5
}
